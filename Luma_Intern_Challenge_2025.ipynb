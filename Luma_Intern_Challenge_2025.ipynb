{
  "nbformat": 4,
  "nbformat_minor": 0,
  "metadata": {
    "colab": {
      "provenance": [],
      "authorship_tag": "ABX9TyMt1EK3dscZgBZjv52zwrw/",
      "include_colab_link": true
    },
    "kernelspec": {
      "name": "python3",
      "display_name": "Python 3"
    },
    "language_info": {
      "name": "python"
    }
  },
  "cells": [
    {
      "cell_type": "markdown",
      "metadata": {
        "id": "view-in-github",
        "colab_type": "text"
      },
      "source": [
        "<a href=\"https://colab.research.google.com/github/Sussex123456143/lumaa-spring-2025-ai-ml/blob/main/Luma_Intern_Challenge_2025.ipynb\" target=\"_parent\"><img src=\"https://colab.research.google.com/assets/colab-badge.svg\" alt=\"Open In Colab\"/></a>"
      ]
    },
    {
      "cell_type": "code",
      "execution_count": 1,
      "metadata": {
        "id": "TeuS-sqSeEEg",
        "colab": {
          "base_uri": "https://localhost:8080/"
        },
        "outputId": "ea4a678d-b95a-427e-fac6-e963292ddbbd"
      },
      "outputs": [
        {
          "output_type": "stream",
          "name": "stdout",
          "text": [
            "Downloading from https://www.kaggle.com/api/v1/datasets/download/jrobischon/wikipedia-movie-plots?dataset_version_number=1...\n"
          ]
        },
        {
          "output_type": "stream",
          "name": "stderr",
          "text": [
            "100%|██████████| 29.9M/29.9M [00:00<00:00, 46.7MB/s]"
          ]
        },
        {
          "output_type": "stream",
          "name": "stdout",
          "text": [
            "Extracting files...\n"
          ]
        },
        {
          "output_type": "stream",
          "name": "stderr",
          "text": [
            "\n"
          ]
        }
      ],
      "source": [
        "import kagglehub\n",
        "import os\n",
        "import pandas as pd\n",
        "from sklearn.feature_extraction.text import TfidfVectorizer\n",
        "from sklearn.metrics.pairwise import cosine_similarity\n",
        "from sklearn.utils import class_weight\n",
        "# Download latest version\n",
        "path = kagglehub.dataset_download(\"jrobischon/wikipedia-movie-plots\")\n",
        "#print(path)\n",
        "\n",
        "# Assuming a CSV file is found\n",
        "csv_file = [file for file in os.listdir(path) if file.endswith('.csv')][0]\n",
        "csv_path = os.path.join(path, csv_file)\n",
        "\n",
        "# Load the dataset into a DataFrame\n",
        "df = pd.read_csv(csv_path)\n",
        "\n",
        "#print(df.head())  # Check the structure of the dataset"
      ]
    },
    {
      "cell_type": "code",
      "source": [
        "#Paring down the dataset to a workable size\n",
        "df.drop(['Release Year','Origin/Ethnicity','Director','Cast','Wiki Page'],axis=1,inplace=True)\n",
        "df = df[df['Genre'] != 'unknown']\n",
        "df = df[df['Plot'].str.len() >= 35]\n",
        "df = df.sample(n=500,random_state = 36)\n",
        "\n",
        "#Combine plot with genre to get more accurate matching\n",
        "df['Combined_Text'] = df['Genre'] + \" \" + df['Plot']\n",
        "#print(df['Combined_Text'])"
      ],
      "metadata": {
        "colab": {
          "base_uri": "https://localhost:8080/"
        },
        "id": "UKxuyK6vOi5R",
        "outputId": "b8eb18e1-5b8e-4a7d-b0fc-8b011906d317"
      },
      "execution_count": 2,
      "outputs": [
        {
          "output_type": "stream",
          "name": "stdout",
          "text": [
            "830      musical comedy With unpaid actors and staff, t...\n",
            "24901    romance Kamal Bhatnagar (Rajesh Khanna) is a j...\n",
            "28322    drama Parudeesa tells the story of a Catholic ...\n",
            "6514     comedy An old friend of the boys returns to to...\n",
            "9305     comedy drama Craig Blake (Jeff Bridges) is a y...\n",
            "                               ...                        \n",
            "7823     western Sam Ward and Logan Keliher were once b...\n",
            "13586    independent The plot centers upon the coming o...\n",
            "19143    crime A quiet, respectable henpecked bank cash...\n",
            "15496    horror The film begins with a young girl being...\n",
            "16374    dramatic comedy Kate Hannah (Mary Elizabeth Wi...\n",
            "Name: Combined_Text, Length: 500, dtype: object\n"
          ]
        }
      ]
    },
    {
      "cell_type": "code",
      "source": [
        "# Combine user input with dataset for vectorization\n",
        "texts = df['Combined_Text'].tolist()\n",
        "user_input = input()\n",
        "texts.append(user_input)\n",
        "\n",
        "# Convert to TF-IDF vectors\n",
        "vectorizer = TfidfVectorizer(stop_words='english')\n",
        "tfidf_matrix = vectorizer.fit_transform(texts)\n",
        "\n",
        "# Compute cosine similarity (user input vs dataset)\n",
        "cosine_similarities = cosine_similarity(tfidf_matrix[-1], tfidf_matrix[:-1])\n",
        "\n",
        "# Add similarity scores to DataFrame\n",
        "df['similarity'] = cosine_similarities.flatten()\n",
        "\n",
        "# Get top 3 matches\n",
        "top_matches = df.nlargest(3, 'similarity')\n",
        "print(top_matches[['Title', 'Genre']])"
      ],
      "metadata": {
        "colab": {
          "base_uri": "https://localhost:8080/"
        },
        "id": "yOcdJfWdVn6J",
        "outputId": "022c959e-90c1-42e8-c236-59cef23ff4b6"
      },
      "execution_count": 3,
      "outputs": [
        {
          "output_type": "stream",
          "name": "stdout",
          "text": [
            "I like military thrillers!\n",
            "                          Title     Genre\n",
            "9433   Twilight's Last Gleaming  thriller\n",
            "13225          Dangerous Beauty     drama\n",
            "24450                 Kathputli     drama\n"
          ]
        }
      ]
    }
  ]
}